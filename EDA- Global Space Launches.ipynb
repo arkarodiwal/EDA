{
 "cells": [
  {
   "cell_type": "markdown",
   "metadata": {},
   "source": [
    "# Global Space Launches\n",
    "\n",
    "This dataset contains data about every Space launch from 1957 to the Modern-day.\n",
    "The attributes are given below:\n",
    "- Company Name - Name of Organization responsible for launch\n",
    "- Location - Name of launch location\n",
    "- Details - Specification of each rocket\n",
    "- Status Rocket - Showing if a rocket is currently in use\n",
    "- Rocket - Cost in Millions of rocket used\n",
    "- Status Mission - One of 4 categorical elements showing the the result of the launch\n",
    "- Country of Launch - the country where the launch took place\n",
    "- Company's Country of Origin - the country that the organization is from\n",
    "- Private or State Run - the organizations category think SpaceX for private and NASA for State\n",
    "- DateTime - Date and Time\n",
    "- Year - year of launch\n",
    "- Month - Month of launch\n",
    "- Day - Day of launch\n",
    "- Date - Date of launch\n",
    "- Time - Time of launch\n",
    "\n",
    "## Objective\n",
    "Perform Exploratory Data analysis on the dataset to understand the following:\n",
    "1. Illustrate with appropriate plot the countries wherein successful launches have takenplace over the years.\n",
    "2. Which are the major players in the private sector of the space industry?\n",
    "3. Which organization is the most collaborative and works the most with other countries?Illustrate with plots\n",
    "4. Analyse at what time of the day do the launches usually fail.\n",
    "5. Explore with plots the budget allocated to GSLV and PSLV launches from ISRO. Also assess the success rate of launches conducted by ISRO for GSLV and PSLV spaceshipsvia plots through the years.\n"
   ]
  },
  {
   "cell_type": "code",
   "execution_count": 321,
   "metadata": {},
   "outputs": [],
   "source": [
    "import numpy as np\n",
    "import pandas as pd\n",
    "import seaborn as sns\n",
    "import matplotlib.pyplot as plt\n",
    "%matplotlib inline"
   ]
  },
  {
   "cell_type": "code",
   "execution_count": 322,
   "metadata": {},
   "outputs": [],
   "source": [
    "df= pd.read_csv('Global Space Launches.csv')"
   ]
  },
  {
   "cell_type": "code",
   "execution_count": 323,
   "metadata": {},
   "outputs": [
    {
     "data": {
      "text/html": [
       "<div>\n",
       "<style scoped>\n",
       "    .dataframe tbody tr th:only-of-type {\n",
       "        vertical-align: middle;\n",
       "    }\n",
       "\n",
       "    .dataframe tbody tr th {\n",
       "        vertical-align: top;\n",
       "    }\n",
       "\n",
       "    .dataframe thead th {\n",
       "        text-align: right;\n",
       "    }\n",
       "</style>\n",
       "<table border=\"1\" class=\"dataframe\">\n",
       "  <thead>\n",
       "    <tr style=\"text-align: right;\">\n",
       "      <th></th>\n",
       "      <th>Company Name</th>\n",
       "      <th>Location</th>\n",
       "      <th>Detail</th>\n",
       "      <th>Status Rocket</th>\n",
       "      <th>Rocket</th>\n",
       "      <th>Status Mission</th>\n",
       "      <th>Country of Launch</th>\n",
       "      <th>Companys Country of Origin</th>\n",
       "      <th>Private or State Run</th>\n",
       "      <th>DateTime</th>\n",
       "      <th>Year</th>\n",
       "      <th>Month</th>\n",
       "      <th>Day</th>\n",
       "      <th>Date</th>\n",
       "      <th>Time</th>\n",
       "    </tr>\n",
       "  </thead>\n",
       "  <tbody>\n",
       "    <tr>\n",
       "      <th>0</th>\n",
       "      <td>SpaceX</td>\n",
       "      <td>LC-39A, Kennedy Space Center, Florida, USA</td>\n",
       "      <td>Falcon 9 Block 5 | Starlink V1 L9 &amp; BlackSky</td>\n",
       "      <td>StatusActive</td>\n",
       "      <td>50.0</td>\n",
       "      <td>Success</td>\n",
       "      <td>USA</td>\n",
       "      <td>USA</td>\n",
       "      <td>P</td>\n",
       "      <td>2020-08-07 05:12:00+00:00</td>\n",
       "      <td>2020</td>\n",
       "      <td>8</td>\n",
       "      <td>7</td>\n",
       "      <td>07/08/2020</td>\n",
       "      <td>05:12</td>\n",
       "    </tr>\n",
       "    <tr>\n",
       "      <th>1</th>\n",
       "      <td>CASIC</td>\n",
       "      <td>Site 9401 (SLS-2), Jiuquan Satellite Launch Ce...</td>\n",
       "      <td>Long March 2D | Gaofen-9 04 &amp; Q-SAT</td>\n",
       "      <td>StatusActive</td>\n",
       "      <td>29.75</td>\n",
       "      <td>Success</td>\n",
       "      <td>China</td>\n",
       "      <td>China</td>\n",
       "      <td>S</td>\n",
       "      <td>2020-08-06 04:01:00+00:00</td>\n",
       "      <td>2020</td>\n",
       "      <td>8</td>\n",
       "      <td>6</td>\n",
       "      <td>06/08/2020</td>\n",
       "      <td>04:01</td>\n",
       "    </tr>\n",
       "    <tr>\n",
       "      <th>2</th>\n",
       "      <td>SpaceX</td>\n",
       "      <td>Pad A, Boca Chica, Texas, USA</td>\n",
       "      <td>Starship Prototype | 150 Meter Hop</td>\n",
       "      <td>StatusActive</td>\n",
       "      <td>NaN</td>\n",
       "      <td>Success</td>\n",
       "      <td>USA</td>\n",
       "      <td>USA</td>\n",
       "      <td>P</td>\n",
       "      <td>2020-08-04 23:57:00+00:00</td>\n",
       "      <td>2020</td>\n",
       "      <td>8</td>\n",
       "      <td>4</td>\n",
       "      <td>04/08/2020</td>\n",
       "      <td>23:57</td>\n",
       "    </tr>\n",
       "    <tr>\n",
       "      <th>3</th>\n",
       "      <td>Roscosmos</td>\n",
       "      <td>Site 200/39, Baikonur Cosmodrome, Kazakhstan</td>\n",
       "      <td>Proton-M/Briz-M | Ekspress-80 &amp; Ekspress-103</td>\n",
       "      <td>StatusActive</td>\n",
       "      <td>65.0</td>\n",
       "      <td>Success</td>\n",
       "      <td>Kazakhstan</td>\n",
       "      <td>Russia</td>\n",
       "      <td>S</td>\n",
       "      <td>2020-07-30 21:25:00+00:00</td>\n",
       "      <td>2020</td>\n",
       "      <td>7</td>\n",
       "      <td>30</td>\n",
       "      <td>30/07/2020</td>\n",
       "      <td>21:25</td>\n",
       "    </tr>\n",
       "    <tr>\n",
       "      <th>4</th>\n",
       "      <td>ULA</td>\n",
       "      <td>SLC-41, Cape Canaveral AFS, Florida, USA</td>\n",
       "      <td>Atlas V 541 | Perseverance</td>\n",
       "      <td>StatusActive</td>\n",
       "      <td>145.0</td>\n",
       "      <td>Success</td>\n",
       "      <td>USA</td>\n",
       "      <td>USA</td>\n",
       "      <td>P</td>\n",
       "      <td>2020-07-30 11:50:00+00:00</td>\n",
       "      <td>2020</td>\n",
       "      <td>7</td>\n",
       "      <td>30</td>\n",
       "      <td>30/07/2020</td>\n",
       "      <td>11:50</td>\n",
       "    </tr>\n",
       "  </tbody>\n",
       "</table>\n",
       "</div>"
      ],
      "text/plain": [
       "  Company Name                                           Location  \\\n",
       "0       SpaceX         LC-39A, Kennedy Space Center, Florida, USA   \n",
       "1        CASIC  Site 9401 (SLS-2), Jiuquan Satellite Launch Ce...   \n",
       "2       SpaceX                      Pad A, Boca Chica, Texas, USA   \n",
       "3    Roscosmos       Site 200/39, Baikonur Cosmodrome, Kazakhstan   \n",
       "4          ULA           SLC-41, Cape Canaveral AFS, Florida, USA   \n",
       "\n",
       "                                         Detail Status Rocket  Rocket  \\\n",
       "0  Falcon 9 Block 5 | Starlink V1 L9 & BlackSky  StatusActive   50.0    \n",
       "1           Long March 2D | Gaofen-9 04 & Q-SAT  StatusActive  29.75    \n",
       "2            Starship Prototype | 150 Meter Hop  StatusActive     NaN   \n",
       "3  Proton-M/Briz-M | Ekspress-80 & Ekspress-103  StatusActive   65.0    \n",
       "4                    Atlas V 541 | Perseverance  StatusActive  145.0    \n",
       "\n",
       "  Status Mission Country of Launch Companys Country of Origin  \\\n",
       "0        Success               USA                        USA   \n",
       "1        Success             China                      China   \n",
       "2        Success               USA                        USA   \n",
       "3        Success        Kazakhstan                     Russia   \n",
       "4        Success               USA                        USA   \n",
       "\n",
       "  Private or State Run                   DateTime  Year  Month  Day  \\\n",
       "0                    P  2020-08-07 05:12:00+00:00  2020      8    7   \n",
       "1                    S  2020-08-06 04:01:00+00:00  2020      8    6   \n",
       "2                    P  2020-08-04 23:57:00+00:00  2020      8    4   \n",
       "3                    S  2020-07-30 21:25:00+00:00  2020      7   30   \n",
       "4                    P  2020-07-30 11:50:00+00:00  2020      7   30   \n",
       "\n",
       "         Date   Time  \n",
       "0  07/08/2020  05:12  \n",
       "1  06/08/2020  04:01  \n",
       "2  04/08/2020  23:57  \n",
       "3  30/07/2020  21:25  \n",
       "4  30/07/2020  11:50  "
      ]
     },
     "execution_count": 323,
     "metadata": {},
     "output_type": "execute_result"
    }
   ],
   "source": [
    "df.head()"
   ]
  },
  {
   "cell_type": "code",
   "execution_count": 324,
   "metadata": {},
   "outputs": [
    {
     "data": {
      "text/plain": [
       "Index(['Company Name', 'Location', 'Detail', 'Status Rocket', ' Rocket',\n",
       "       'Status Mission', 'Country of Launch', 'Companys Country of Origin',\n",
       "       'Private or State Run', 'DateTime', 'Year', 'Month', 'Day', 'Date',\n",
       "       'Time'],\n",
       "      dtype='object')"
      ]
     },
     "execution_count": 324,
     "metadata": {},
     "output_type": "execute_result"
    }
   ],
   "source": [
    "df.columns"
   ]
  },
  {
   "cell_type": "code",
   "execution_count": 325,
   "metadata": {},
   "outputs": [],
   "source": [
    "df.rename(columns= {' Rocket': 'Rocket'}, inplace= True)"
   ]
  },
  {
   "cell_type": "code",
   "execution_count": 326,
   "metadata": {},
   "outputs": [
    {
     "data": {
      "text/plain": [
       "array(['50.0 ', '29.75 ', nan, '65.0 ', '145.0 ', '64.68 ', '48.5 ',\n",
       "       '90.0 ', '46.0 ', '28.3 ', '29.15 ', '7.5 ', '30.8 ', '5.3 ',\n",
       "       '12.0 ', '112.5 ', '120.0 ', '153.0 ', '200.0 ', '85.0 ', '115.0 ',\n",
       "       '41.8 ', '21.0 ', '31.0 ', '40.0 ', '164.0 ', '62.0 ', '37.0 ',\n",
       "       '350.0 ', '39.0 ', '47.0 ', '35.0 ', '69.7 ', '109.0 ', '45.0 ',\n",
       "       '123.0 ', '130.0 ', '25.0 ', '56.5 ', '15.0 ', '29.0 ', '80.0 ',\n",
       "       '140.0 ', '55.0 ', '59.5 ', '450.0 ', '7.0 ', '20.14 ', '133.0 ',\n",
       "       '190.0 ', '135.0 ', '20.0 ', '136.6 ', '5,000.0 ', '1,160.0 ',\n",
       "       '59.0 ', '63.23 '], dtype=object)"
      ]
     },
     "execution_count": 326,
     "metadata": {},
     "output_type": "execute_result"
    }
   ],
   "source": [
    "df['Rocket'].unique()"
   ]
  },
  {
   "cell_type": "code",
   "execution_count": 327,
   "metadata": {},
   "outputs": [],
   "source": [
    "df['Rocket']=df['Rocket'].replace('.', '')\n",
    "df['Rocket']=df['Rocket'].replace(',', '')\n",
    "df['Rocket']=df['Rocket'].replace({'5,000.0 ':'5000','1,160.0 ':'1160'})\n",
    "df['Rocket']=df['Rocket'].astype('float64')"
   ]
  },
  {
   "cell_type": "code",
   "execution_count": 328,
   "metadata": {},
   "outputs": [
    {
     "data": {
      "text/plain": [
       "Index(['Company Name', 'Location', 'Detail', 'Status Rocket', 'Rocket',\n",
       "       'Status Mission', 'Country of Launch', 'Companys Country of Origin',\n",
       "       'Private or State Run', 'DateTime', 'Year', 'Month', 'Day', 'Date',\n",
       "       'Time'],\n",
       "      dtype='object')"
      ]
     },
     "execution_count": 328,
     "metadata": {},
     "output_type": "execute_result"
    }
   ],
   "source": [
    "df.columns"
   ]
  },
  {
   "cell_type": "code",
   "execution_count": 329,
   "metadata": {
    "scrolled": true
   },
   "outputs": [
    {
     "data": {
      "text/plain": [
       "array(['Success', 'Failure', 'Prelaunch Failure', 'Partial Failure'],\n",
       "      dtype=object)"
      ]
     },
     "execution_count": 329,
     "metadata": {},
     "output_type": "execute_result"
    }
   ],
   "source": [
    "df['Status Mission'].unique()"
   ]
  },
  {
   "cell_type": "code",
   "execution_count": 330,
   "metadata": {
    "scrolled": false
   },
   "outputs": [
    {
     "name": "stdout",
     "output_type": "stream",
     "text": [
      "<class 'pandas.core.frame.DataFrame'>\n",
      "RangeIndex: 4324 entries, 0 to 4323\n",
      "Data columns (total 15 columns):\n",
      " #   Column                      Non-Null Count  Dtype  \n",
      "---  ------                      --------------  -----  \n",
      " 0   Company Name                4324 non-null   object \n",
      " 1   Location                    4324 non-null   object \n",
      " 2   Detail                      4324 non-null   object \n",
      " 3   Status Rocket               4324 non-null   object \n",
      " 4   Rocket                      964 non-null    float64\n",
      " 5   Status Mission              4324 non-null   object \n",
      " 6   Country of Launch           4324 non-null   object \n",
      " 7   Companys Country of Origin  4324 non-null   object \n",
      " 8   Private or State Run        4324 non-null   object \n",
      " 9   DateTime                    4324 non-null   object \n",
      " 10  Year                        4324 non-null   int64  \n",
      " 11  Month                       4324 non-null   int64  \n",
      " 12  Day                         4324 non-null   int64  \n",
      " 13  Date                        4324 non-null   object \n",
      " 14  Time                        4324 non-null   object \n",
      "dtypes: float64(1), int64(3), object(11)\n",
      "memory usage: 506.8+ KB\n"
     ]
    }
   ],
   "source": [
    "df.info()"
   ]
  },
  {
   "cell_type": "code",
   "execution_count": 331,
   "metadata": {},
   "outputs": [
    {
     "data": {
      "text/plain": [
       "Company Name                     0\n",
       "Location                         0\n",
       "Detail                           0\n",
       "Status Rocket                    0\n",
       "Rocket                        3360\n",
       "Status Mission                   0\n",
       "Country of Launch                0\n",
       "Companys Country of Origin       0\n",
       "Private or State Run             0\n",
       "DateTime                         0\n",
       "Year                             0\n",
       "Month                            0\n",
       "Day                              0\n",
       "Date                             0\n",
       "Time                             0\n",
       "dtype: int64"
      ]
     },
     "execution_count": 331,
     "metadata": {},
     "output_type": "execute_result"
    }
   ],
   "source": [
    "df.isnull().sum()"
   ]
  },
  {
   "cell_type": "code",
   "execution_count": 278,
   "metadata": {},
   "outputs": [
    {
     "data": {
      "text/plain": [
       "Company Name                  0.000000\n",
       "Location                      0.000000\n",
       "Detail                        0.000000\n",
       "Status Rocket                 0.000000\n",
       "Rocket                        0.777058\n",
       "Status Mission                0.000000\n",
       "Country of Launch             0.000000\n",
       "Companys Country of Origin    0.000000\n",
       "Private or State Run          0.000000\n",
       "DateTime                      0.000000\n",
       "Year                          0.000000\n",
       "Month                         0.000000\n",
       "Day                           0.000000\n",
       "Date                          0.000000\n",
       "Time                          0.000000\n",
       "dtype: float64"
      ]
     },
     "execution_count": 278,
     "metadata": {},
     "output_type": "execute_result"
    }
   ],
   "source": [
    "df.isnull().sum()/len(df)"
   ]
  },
  {
   "cell_type": "markdown",
   "metadata": {},
   "source": [
    "Column Rocket has 77.7% of missing values."
   ]
  },
  {
   "cell_type": "markdown",
   "metadata": {},
   "source": [
    "### 1. Illustrate with appropriate plot the countries wherein successful launches have takenplace over the years."
   ]
  },
  {
   "cell_type": "code",
   "execution_count": 332,
   "metadata": {},
   "outputs": [],
   "source": [
    "df1= df[df['Status Mission']== 'Success']"
   ]
  },
  {
   "cell_type": "code",
   "execution_count": 333,
   "metadata": {},
   "outputs": [
    {
     "data": {
      "text/html": [
       "<div>\n",
       "<style scoped>\n",
       "    .dataframe tbody tr th:only-of-type {\n",
       "        vertical-align: middle;\n",
       "    }\n",
       "\n",
       "    .dataframe tbody tr th {\n",
       "        vertical-align: top;\n",
       "    }\n",
       "\n",
       "    .dataframe thead th {\n",
       "        text-align: right;\n",
       "    }\n",
       "</style>\n",
       "<table border=\"1\" class=\"dataframe\">\n",
       "  <thead>\n",
       "    <tr style=\"text-align: right;\">\n",
       "      <th></th>\n",
       "      <th>Status Mission</th>\n",
       "    </tr>\n",
       "    <tr>\n",
       "      <th>Country of Launch</th>\n",
       "      <th></th>\n",
       "    </tr>\n",
       "  </thead>\n",
       "  <tbody>\n",
       "    <tr>\n",
       "      <th>Australia</th>\n",
       "      <td>3</td>\n",
       "    </tr>\n",
       "    <tr>\n",
       "      <th>China</th>\n",
       "      <td>244</td>\n",
       "    </tr>\n",
       "    <tr>\n",
       "      <th>France</th>\n",
       "      <td>285</td>\n",
       "    </tr>\n",
       "    <tr>\n",
       "      <th>India</th>\n",
       "      <td>63</td>\n",
       "    </tr>\n",
       "    <tr>\n",
       "      <th>Iran</th>\n",
       "      <td>5</td>\n",
       "    </tr>\n",
       "  </tbody>\n",
       "</table>\n",
       "</div>"
      ],
      "text/plain": [
       "                   Status Mission\n",
       "Country of Launch                \n",
       "Australia                       3\n",
       "China                         244\n",
       "France                        285\n",
       "India                          63\n",
       "Iran                            5"
      ]
     },
     "execution_count": 333,
     "metadata": {},
     "output_type": "execute_result"
    }
   ],
   "source": [
    "df2= pd.DataFrame(df1.groupby('Country of Launch')['Status Mission'].count())\n",
    "df2.head()"
   ]
  },
  {
   "cell_type": "code",
   "execution_count": 334,
   "metadata": {},
   "outputs": [
    {
     "data": {
      "text/plain": [
       "<AxesSubplot:title={'center':'Countries wherein successful launches have takenplace over the years'}, xlabel='Country of Launch'>"
      ]
     },
     "execution_count": 334,
     "metadata": {},
     "output_type": "execute_result"
    },
    {
     "data": {
      "image/png": "[encoded data removed]",
      "text/plain": [
       "<Figure size 432x288 with 1 Axes>"
      ]
     },
     "metadata": {
      "needs_background": "light"
     },
     "output_type": "display_data"
    }
   ],
   "source": [
    "df2.sort_values(by= 'Status Mission', ascending=False).plot(kind='bar', title= 'Countries wherein successful launches have takenplace over the years')"
   ]
  },
  {
   "cell_type": "markdown",
   "metadata": {},
   "source": [
    "Russia, USA and Kazakhstan are the countries wherein the successful launches have taken place."
   ]
  },
  {
   "cell_type": "markdown",
   "metadata": {},
   "source": [
    "### 2. Which are the major players in the private sector of the space industry?"
   ]
  },
  {
   "cell_type": "code",
   "execution_count": 335,
   "metadata": {},
   "outputs": [],
   "source": [
    "df1= df[df['Private or State Run']=='P']"
   ]
  },
  {
   "cell_type": "code",
   "execution_count": 336,
   "metadata": {},
   "outputs": [],
   "source": [
    "df2= pd.DataFrame(df1.groupby('Company Name')['Private or State Run'].count())"
   ]
  },
  {
   "cell_type": "code",
   "execution_count": 337,
   "metadata": {},
   "outputs": [
    {
     "data": {
      "text/html": [
       "<div>\n",
       "<style scoped>\n",
       "    .dataframe tbody tr th:only-of-type {\n",
       "        vertical-align: middle;\n",
       "    }\n",
       "\n",
       "    .dataframe tbody tr th {\n",
       "        vertical-align: top;\n",
       "    }\n",
       "\n",
       "    .dataframe thead th {\n",
       "        text-align: right;\n",
       "    }\n",
       "</style>\n",
       "<table border=\"1\" class=\"dataframe\">\n",
       "  <thead>\n",
       "    <tr style=\"text-align: right;\">\n",
       "      <th></th>\n",
       "      <th>Private or State Run</th>\n",
       "    </tr>\n",
       "    <tr>\n",
       "      <th>Company Name</th>\n",
       "      <th></th>\n",
       "    </tr>\n",
       "  </thead>\n",
       "  <tbody>\n",
       "    <tr>\n",
       "      <th>Arianespace</th>\n",
       "      <td>279</td>\n",
       "    </tr>\n",
       "    <tr>\n",
       "      <th>Blue Origin</th>\n",
       "      <td>12</td>\n",
       "    </tr>\n",
       "    <tr>\n",
       "      <th>Boeing</th>\n",
       "      <td>136</td>\n",
       "    </tr>\n",
       "    <tr>\n",
       "      <th>Douglas</th>\n",
       "      <td>1</td>\n",
       "    </tr>\n",
       "    <tr>\n",
       "      <th>EER</th>\n",
       "      <td>1</td>\n",
       "    </tr>\n",
       "  </tbody>\n",
       "</table>\n",
       "</div>"
      ],
      "text/plain": [
       "              Private or State Run\n",
       "Company Name                      \n",
       "Arianespace                    279\n",
       "Blue Origin                     12\n",
       "Boeing                         136\n",
       "Douglas                          1\n",
       "EER                              1"
      ]
     },
     "execution_count": 337,
     "metadata": {},
     "output_type": "execute_result"
    }
   ],
   "source": [
    "df2.head()"
   ]
  },
  {
   "cell_type": "code",
   "execution_count": 338,
   "metadata": {},
   "outputs": [
    {
     "data": {
      "text/plain": [
       "<AxesSubplot:title={'center':'Major players in the private sector of the space industry'}, xlabel='Company Name'>"
      ]
     },
     "execution_count": 338,
     "metadata": {},
     "output_type": "execute_result"
    },
    {
     "data": {
      "image/png": "[encoded data removed]",
      "text/plain": [
       "<Figure size 432x288 with 1 Axes>"
      ]
     },
     "metadata": {
      "needs_background": "light"
     },
     "output_type": "display_data"
    }
   ],
   "source": [
    "df2.sort_values(by= 'Private or State Run', ascending=False).head(10).plot(kind='bar', title= 'Major players in the private sector of the space industry')"
   ]
  },
  {
   "cell_type": "markdown",
   "metadata": {},
   "source": [
    "### 3. Which organization is the most collaborative and works the most with other"
   ]
  },
  {
   "cell_type": "code",
   "execution_count": 339,
   "metadata": {},
   "outputs": [],
   "source": [
    "df1= df[df['Country of Launch']!=df['Companys Country of Origin']]"
   ]
  },
  {
   "cell_type": "code",
   "execution_count": 340,
   "metadata": {},
   "outputs": [],
   "source": [
    "df2= pd.DataFrame(df1.groupby(['Company Name','Country of Launch']).count())"
   ]
  },
  {
   "cell_type": "code",
   "execution_count": 341,
   "metadata": {},
   "outputs": [
    {
     "data": {
      "text/html": [
       "<div>\n",
       "<style scoped>\n",
       "    .dataframe tbody tr th:only-of-type {\n",
       "        vertical-align: middle;\n",
       "    }\n",
       "\n",
       "    .dataframe tbody tr th {\n",
       "        vertical-align: top;\n",
       "    }\n",
       "\n",
       "    .dataframe thead th {\n",
       "        text-align: right;\n",
       "    }\n",
       "</style>\n",
       "<table border=\"1\" class=\"dataframe\">\n",
       "  <thead>\n",
       "    <tr style=\"text-align: right;\">\n",
       "      <th></th>\n",
       "      <th></th>\n",
       "      <th>Location</th>\n",
       "      <th>Detail</th>\n",
       "      <th>Status Rocket</th>\n",
       "      <th>Rocket</th>\n",
       "      <th>Status Mission</th>\n",
       "      <th>Companys Country of Origin</th>\n",
       "      <th>Private or State Run</th>\n",
       "      <th>DateTime</th>\n",
       "      <th>Year</th>\n",
       "      <th>Month</th>\n",
       "      <th>Day</th>\n",
       "      <th>Date</th>\n",
       "      <th>Time</th>\n",
       "    </tr>\n",
       "    <tr>\n",
       "      <th>Company Name</th>\n",
       "      <th>Country of Launch</th>\n",
       "      <th></th>\n",
       "      <th></th>\n",
       "      <th></th>\n",
       "      <th></th>\n",
       "      <th></th>\n",
       "      <th></th>\n",
       "      <th></th>\n",
       "      <th></th>\n",
       "      <th></th>\n",
       "      <th></th>\n",
       "      <th></th>\n",
       "      <th></th>\n",
       "      <th></th>\n",
       "    </tr>\n",
       "  </thead>\n",
       "  <tbody>\n",
       "    <tr>\n",
       "      <th>AMBA</th>\n",
       "      <th>Australia</th>\n",
       "      <td>1</td>\n",
       "      <td>1</td>\n",
       "      <td>1</td>\n",
       "      <td>0</td>\n",
       "      <td>1</td>\n",
       "      <td>1</td>\n",
       "      <td>1</td>\n",
       "      <td>1</td>\n",
       "      <td>1</td>\n",
       "      <td>1</td>\n",
       "      <td>1</td>\n",
       "      <td>1</td>\n",
       "      <td>1</td>\n",
       "    </tr>\n",
       "    <tr>\n",
       "      <th>ASI</th>\n",
       "      <th>Kenya</th>\n",
       "      <td>9</td>\n",
       "      <td>9</td>\n",
       "      <td>9</td>\n",
       "      <td>0</td>\n",
       "      <td>9</td>\n",
       "      <td>9</td>\n",
       "      <td>9</td>\n",
       "      <td>9</td>\n",
       "      <td>9</td>\n",
       "      <td>9</td>\n",
       "      <td>9</td>\n",
       "      <td>9</td>\n",
       "      <td>9</td>\n",
       "    </tr>\n",
       "    <tr>\n",
       "      <th rowspan=\"2\" valign=\"top\">Arianespace</th>\n",
       "      <th>France</th>\n",
       "      <td>277</td>\n",
       "      <td>277</td>\n",
       "      <td>277</td>\n",
       "      <td>94</td>\n",
       "      <td>277</td>\n",
       "      <td>277</td>\n",
       "      <td>277</td>\n",
       "      <td>277</td>\n",
       "      <td>277</td>\n",
       "      <td>277</td>\n",
       "      <td>277</td>\n",
       "      <td>277</td>\n",
       "      <td>277</td>\n",
       "    </tr>\n",
       "    <tr>\n",
       "      <th>Kazakhstan</th>\n",
       "      <td>2</td>\n",
       "      <td>2</td>\n",
       "      <td>2</td>\n",
       "      <td>2</td>\n",
       "      <td>2</td>\n",
       "      <td>2</td>\n",
       "      <td>2</td>\n",
       "      <td>2</td>\n",
       "      <td>2</td>\n",
       "      <td>2</td>\n",
       "      <td>2</td>\n",
       "      <td>2</td>\n",
       "      <td>2</td>\n",
       "    </tr>\n",
       "    <tr>\n",
       "      <th>Arme de l'Air</th>\n",
       "      <th>France</th>\n",
       "      <td>4</td>\n",
       "      <td>4</td>\n",
       "      <td>4</td>\n",
       "      <td>0</td>\n",
       "      <td>4</td>\n",
       "      <td>4</td>\n",
       "      <td>4</td>\n",
       "      <td>4</td>\n",
       "      <td>4</td>\n",
       "      <td>4</td>\n",
       "      <td>4</td>\n",
       "      <td>4</td>\n",
       "      <td>4</td>\n",
       "    </tr>\n",
       "  </tbody>\n",
       "</table>\n",
       "</div>"
      ],
      "text/plain": [
       "                                 Location  Detail  Status Rocket  Rocket  \\\n",
       "Company Name  Country of Launch                                            \n",
       "AMBA          Australia                 1       1              1       0   \n",
       "ASI           Kenya                     9       9              9       0   \n",
       "Arianespace   France                  277     277            277      94   \n",
       "              Kazakhstan                2       2              2       2   \n",
       "Arme de l'Air France                    4       4              4       0   \n",
       "\n",
       "                                 Status Mission  Companys Country of Origin  \\\n",
       "Company Name  Country of Launch                                               \n",
       "AMBA          Australia                       1                           1   \n",
       "ASI           Kenya                           9                           9   \n",
       "Arianespace   France                        277                         277   \n",
       "              Kazakhstan                      2                           2   \n",
       "Arme de l'Air France                          4                           4   \n",
       "\n",
       "                                 Private or State Run  DateTime  Year  Month  \\\n",
       "Company Name  Country of Launch                                                \n",
       "AMBA          Australia                             1         1     1      1   \n",
       "ASI           Kenya                                 9         9     9      9   \n",
       "Arianespace   France                              277       277   277    277   \n",
       "              Kazakhstan                            2         2     2      2   \n",
       "Arme de l'Air France                                4         4     4      4   \n",
       "\n",
       "                                 Day  Date  Time  \n",
       "Company Name  Country of Launch                   \n",
       "AMBA          Australia            1     1     1  \n",
       "ASI           Kenya                9     9     9  \n",
       "Arianespace   France             277   277   277  \n",
       "              Kazakhstan           2     2     2  \n",
       "Arme de l'Air France               4     4     4  "
      ]
     },
     "execution_count": 341,
     "metadata": {},
     "output_type": "execute_result"
    }
   ],
   "source": [
    "df2.head()"
   ]
  },
  {
   "cell_type": "code",
   "execution_count": 342,
   "metadata": {},
   "outputs": [
    {
     "data": {
      "text/html": [
       "<div>\n",
       "<style scoped>\n",
       "    .dataframe tbody tr th:only-of-type {\n",
       "        vertical-align: middle;\n",
       "    }\n",
       "\n",
       "    .dataframe tbody tr th {\n",
       "        vertical-align: top;\n",
       "    }\n",
       "\n",
       "    .dataframe thead th {\n",
       "        text-align: right;\n",
       "    }\n",
       "</style>\n",
       "<table border=\"1\" class=\"dataframe\">\n",
       "  <thead>\n",
       "    <tr style=\"text-align: right;\">\n",
       "      <th></th>\n",
       "      <th>Company Name</th>\n",
       "      <th>Country of Launch</th>\n",
       "      <th>Location</th>\n",
       "    </tr>\n",
       "  </thead>\n",
       "  <tbody>\n",
       "    <tr>\n",
       "      <th>0</th>\n",
       "      <td>AMBA</td>\n",
       "      <td>Australia</td>\n",
       "      <td>1</td>\n",
       "    </tr>\n",
       "    <tr>\n",
       "      <th>1</th>\n",
       "      <td>ASI</td>\n",
       "      <td>Kenya</td>\n",
       "      <td>9</td>\n",
       "    </tr>\n",
       "    <tr>\n",
       "      <th>2</th>\n",
       "      <td>Arianespace</td>\n",
       "      <td>France</td>\n",
       "      <td>277</td>\n",
       "    </tr>\n",
       "    <tr>\n",
       "      <th>3</th>\n",
       "      <td>Arianespace</td>\n",
       "      <td>Kazakhstan</td>\n",
       "      <td>2</td>\n",
       "    </tr>\n",
       "    <tr>\n",
       "      <th>4</th>\n",
       "      <td>Arme de l'Air</td>\n",
       "      <td>France</td>\n",
       "      <td>4</td>\n",
       "    </tr>\n",
       "  </tbody>\n",
       "</table>\n",
       "</div>"
      ],
      "text/plain": [
       "    Company Name Country of Launch  Location\n",
       "0           AMBA         Australia         1\n",
       "1            ASI             Kenya         9\n",
       "2    Arianespace            France       277\n",
       "3    Arianespace        Kazakhstan         2\n",
       "4  Arme de l'Air            France         4"
      ]
     },
     "execution_count": 342,
     "metadata": {},
     "output_type": "execute_result"
    }
   ],
   "source": [
    "df3= df2.reset_index()[[\"Company Name\",\"Country of Launch\", 'Location']]\n",
    "df3.head()                    "
   ]
  },
  {
   "cell_type": "code",
   "execution_count": 343,
   "metadata": {},
   "outputs": [
    {
     "data": {
      "text/html": [
       "<div>\n",
       "<style scoped>\n",
       "    .dataframe tbody tr th:only-of-type {\n",
       "        vertical-align: middle;\n",
       "    }\n",
       "\n",
       "    .dataframe tbody tr th {\n",
       "        vertical-align: top;\n",
       "    }\n",
       "\n",
       "    .dataframe thead th {\n",
       "        text-align: right;\n",
       "    }\n",
       "</style>\n",
       "<table border=\"1\" class=\"dataframe\">\n",
       "  <thead>\n",
       "    <tr style=\"text-align: right;\">\n",
       "      <th></th>\n",
       "      <th>Company Name</th>\n",
       "      <th>Country of Launch</th>\n",
       "      <th>Location</th>\n",
       "    </tr>\n",
       "  </thead>\n",
       "  <tbody>\n",
       "    <tr>\n",
       "      <th>16</th>\n",
       "      <td>RVSN USSR</td>\n",
       "      <td>Kazakhstan</td>\n",
       "      <td>579</td>\n",
       "    </tr>\n",
       "    <tr>\n",
       "      <th>2</th>\n",
       "      <td>Arianespace</td>\n",
       "      <td>France</td>\n",
       "      <td>277</td>\n",
       "    </tr>\n",
       "    <tr>\n",
       "      <th>18</th>\n",
       "      <td>Roscosmos</td>\n",
       "      <td>Kazakhstan</td>\n",
       "      <td>47</td>\n",
       "    </tr>\n",
       "    <tr>\n",
       "      <th>22</th>\n",
       "      <td>VKS RF</td>\n",
       "      <td>Kazakhstan</td>\n",
       "      <td>44</td>\n",
       "    </tr>\n",
       "    <tr>\n",
       "      <th>20</th>\n",
       "      <td>Sea Launch</td>\n",
       "      <td>Sea Launch</td>\n",
       "      <td>36</td>\n",
       "    </tr>\n",
       "  </tbody>\n",
       "</table>\n",
       "</div>"
      ],
      "text/plain": [
       "   Company Name Country of Launch  Location\n",
       "16    RVSN USSR        Kazakhstan       579\n",
       "2   Arianespace            France       277\n",
       "18    Roscosmos        Kazakhstan        47\n",
       "22       VKS RF        Kazakhstan        44\n",
       "20   Sea Launch        Sea Launch        36"
      ]
     },
     "execution_count": 343,
     "metadata": {},
     "output_type": "execute_result"
    }
   ],
   "source": [
    "df4= df3.sort_values(\"Location\", ascending=False).head()\n",
    "df4.head()"
   ]
  },
  {
   "cell_type": "code",
   "execution_count": 344,
   "metadata": {
    "scrolled": true
   },
   "outputs": [
    {
     "data": {
      "text/plain": [
       "<AxesSubplot:xlabel='Company Name', ylabel='Location'>"
      ]
     },
     "execution_count": 344,
     "metadata": {},
     "output_type": "execute_result"
    },
    {
     "data": {
      "image/png": "[encoded data removed]",
      "text/plain": [
       "<Figure size 432x288 with 1 Axes>"
      ]
     },
     "metadata": {
      "needs_background": "light"
     },
     "output_type": "display_data"
    }
   ],
   "source": [
    "sns.barplot(x='Company Name', y='Location', data=df4)\n"
   ]
  },
  {
   "cell_type": "markdown",
   "metadata": {},
   "source": [
    "- RVSN USSR and Arianespace are most collaborative organizations and works the most with other"
   ]
  },
  {
   "cell_type": "markdown",
   "metadata": {},
   "source": [
    "### 4. Analyse at what time of the day do the launches usually fail."
   ]
  },
  {
   "cell_type": "code",
   "execution_count": 345,
   "metadata": {},
   "outputs": [],
   "source": [
    "df['Hour']= df['Time'].apply(lambda x : x.split(':')[0])"
   ]
  },
  {
   "cell_type": "code",
   "execution_count": 346,
   "metadata": {},
   "outputs": [
    {
     "data": {
      "text/html": [
       "<div>\n",
       "<style scoped>\n",
       "    .dataframe tbody tr th:only-of-type {\n",
       "        vertical-align: middle;\n",
       "    }\n",
       "\n",
       "    .dataframe tbody tr th {\n",
       "        vertical-align: top;\n",
       "    }\n",
       "\n",
       "    .dataframe thead th {\n",
       "        text-align: right;\n",
       "    }\n",
       "</style>\n",
       "<table border=\"1\" class=\"dataframe\">\n",
       "  <thead>\n",
       "    <tr style=\"text-align: right;\">\n",
       "      <th></th>\n",
       "      <th>Company Name</th>\n",
       "      <th>Location</th>\n",
       "      <th>Detail</th>\n",
       "      <th>Status Rocket</th>\n",
       "      <th>Rocket</th>\n",
       "      <th>Status Mission</th>\n",
       "      <th>Country of Launch</th>\n",
       "      <th>Companys Country of Origin</th>\n",
       "      <th>Private or State Run</th>\n",
       "      <th>DateTime</th>\n",
       "      <th>Year</th>\n",
       "      <th>Month</th>\n",
       "      <th>Day</th>\n",
       "      <th>Date</th>\n",
       "      <th>Time</th>\n",
       "      <th>Hour</th>\n",
       "    </tr>\n",
       "  </thead>\n",
       "  <tbody>\n",
       "    <tr>\n",
       "      <th>0</th>\n",
       "      <td>SpaceX</td>\n",
       "      <td>LC-39A, Kennedy Space Center, Florida, USA</td>\n",
       "      <td>Falcon 9 Block 5 | Starlink V1 L9 &amp; BlackSky</td>\n",
       "      <td>StatusActive</td>\n",
       "      <td>50.0</td>\n",
       "      <td>Success</td>\n",
       "      <td>USA</td>\n",
       "      <td>USA</td>\n",
       "      <td>P</td>\n",
       "      <td>2020-08-07 05:12:00+00:00</td>\n",
       "      <td>2020</td>\n",
       "      <td>8</td>\n",
       "      <td>7</td>\n",
       "      <td>07/08/2020</td>\n",
       "      <td>05:12</td>\n",
       "      <td>05</td>\n",
       "    </tr>\n",
       "  </tbody>\n",
       "</table>\n",
       "</div>"
      ],
      "text/plain": [
       "  Company Name                                    Location  \\\n",
       "0       SpaceX  LC-39A, Kennedy Space Center, Florida, USA   \n",
       "\n",
       "                                         Detail Status Rocket  Rocket  \\\n",
       "0  Falcon 9 Block 5 | Starlink V1 L9 & BlackSky  StatusActive    50.0   \n",
       "\n",
       "  Status Mission Country of Launch Companys Country of Origin  \\\n",
       "0        Success               USA                        USA   \n",
       "\n",
       "  Private or State Run                   DateTime  Year  Month  Day  \\\n",
       "0                    P  2020-08-07 05:12:00+00:00  2020      8    7   \n",
       "\n",
       "         Date   Time Hour  \n",
       "0  07/08/2020  05:12   05  "
      ]
     },
     "execution_count": 346,
     "metadata": {},
     "output_type": "execute_result"
    }
   ],
   "source": [
    "df.head(1)"
   ]
  },
  {
   "cell_type": "code",
   "execution_count": 347,
   "metadata": {},
   "outputs": [],
   "source": [
    "df1 = df[df['Status Mission'] != 'Success']"
   ]
  },
  {
   "cell_type": "code",
   "execution_count": 348,
   "metadata": {},
   "outputs": [],
   "source": [
    "df2=pd.DataFrame(df1.groupby('Hour')['Status Mission'].count())"
   ]
  },
  {
   "cell_type": "code",
   "execution_count": 349,
   "metadata": {},
   "outputs": [
    {
     "data": {
      "text/html": [
       "<div>\n",
       "<style scoped>\n",
       "    .dataframe tbody tr th:only-of-type {\n",
       "        vertical-align: middle;\n",
       "    }\n",
       "\n",
       "    .dataframe tbody tr th {\n",
       "        vertical-align: top;\n",
       "    }\n",
       "\n",
       "    .dataframe thead th {\n",
       "        text-align: right;\n",
       "    }\n",
       "</style>\n",
       "<table border=\"1\" class=\"dataframe\">\n",
       "  <thead>\n",
       "    <tr style=\"text-align: right;\">\n",
       "      <th></th>\n",
       "      <th>Status Mission</th>\n",
       "    </tr>\n",
       "    <tr>\n",
       "      <th>Hour</th>\n",
       "      <th></th>\n",
       "    </tr>\n",
       "  </thead>\n",
       "  <tbody>\n",
       "    <tr>\n",
       "      <th>00</th>\n",
       "      <td>51</td>\n",
       "    </tr>\n",
       "    <tr>\n",
       "      <th>01</th>\n",
       "      <td>12</td>\n",
       "    </tr>\n",
       "    <tr>\n",
       "      <th>02</th>\n",
       "      <td>11</td>\n",
       "    </tr>\n",
       "    <tr>\n",
       "      <th>03</th>\n",
       "      <td>13</td>\n",
       "    </tr>\n",
       "    <tr>\n",
       "      <th>04</th>\n",
       "      <td>10</td>\n",
       "    </tr>\n",
       "  </tbody>\n",
       "</table>\n",
       "</div>"
      ],
      "text/plain": [
       "      Status Mission\n",
       "Hour                \n",
       "00                51\n",
       "01                12\n",
       "02                11\n",
       "03                13\n",
       "04                10"
      ]
     },
     "execution_count": 349,
     "metadata": {},
     "output_type": "execute_result"
    }
   ],
   "source": [
    "df2.head()"
   ]
  },
  {
   "cell_type": "code",
   "execution_count": 350,
   "metadata": {
    "scrolled": true
   },
   "outputs": [
    {
     "data": {
      "text/plain": [
       "<AxesSubplot:xlabel='Hour', ylabel='Status Mission'>"
      ]
     },
     "execution_count": 350,
     "metadata": {},
     "output_type": "execute_result"
    },
    {
     "data": {
      "image/png": "[encoded data removed]",
      "text/plain": [
       "<Figure size 432x288 with 1 Axes>"
      ]
     },
     "metadata": {
      "needs_background": "light"
     },
     "output_type": "display_data"
    }
   ],
   "source": [
    "sns.barplot(x=df2.index, y=df2['Status Mission'])"
   ]
  },
  {
   "cell_type": "markdown",
   "metadata": {},
   "source": [
    "- Most of the launches usually fails at midnight.  "
   ]
  },
  {
   "cell_type": "markdown",
   "metadata": {},
   "source": [
    "### 5. Explore with plots the budget allocated to GSLV and PSLV launches from ISRO.  \n",
    "   ### Also assess the success rate of launches conducted by ISRO for GSLV and PSLV spaceshipsvia plots through the years."
   ]
  },
  {
   "cell_type": "code",
   "execution_count": 351,
   "metadata": {},
   "outputs": [],
   "source": [
    "df1= df[df['Company Name'] == \"ISRO\"]"
   ]
  },
  {
   "cell_type": "code",
   "execution_count": 352,
   "metadata": {},
   "outputs": [],
   "source": [
    "df2= df1[df1['Detail'].apply(lambda x : 'GSLV' in x )]"
   ]
  },
  {
   "cell_type": "code",
   "execution_count": 353,
   "metadata": {},
   "outputs": [],
   "source": [
    "df3= df1[df1['Detail'].apply(lambda x: 'PSLV' in x )]"
   ]
  },
  {
   "cell_type": "code",
   "execution_count": 354,
   "metadata": {},
   "outputs": [
    {
     "name": "stderr",
     "output_type": "stream",
     "text": [
      "C:\\Users\\SUFI\\Anaconda3\\lib\\site-packages\\ipykernel_launcher.py:1: SettingWithCopyWarning: \n",
      "A value is trying to be set on a copy of a slice from a DataFrame.\n",
      "Try using .loc[row_indexer,col_indexer] = value instead\n",
      "\n",
      "See the caveats in the documentation: https://pandas.pydata.org/pandas-docs/stable/user_guide/indexing.html#returning-a-view-versus-a-copy\n",
      "  \"\"\"Entry point for launching an IPython kernel.\n"
     ]
    }
   ],
   "source": [
    "df2['vname']= 'GLSV'"
   ]
  },
  {
   "cell_type": "code",
   "execution_count": 355,
   "metadata": {},
   "outputs": [
    {
     "name": "stderr",
     "output_type": "stream",
     "text": [
      "C:\\Users\\SUFI\\Anaconda3\\lib\\site-packages\\ipykernel_launcher.py:1: SettingWithCopyWarning: \n",
      "A value is trying to be set on a copy of a slice from a DataFrame.\n",
      "Try using .loc[row_indexer,col_indexer] = value instead\n",
      "\n",
      "See the caveats in the documentation: https://pandas.pydata.org/pandas-docs/stable/user_guide/indexing.html#returning-a-view-versus-a-copy\n",
      "  \"\"\"Entry point for launching an IPython kernel.\n"
     ]
    }
   ],
   "source": [
    "df3['vname']= 'PSLV'"
   ]
  },
  {
   "cell_type": "code",
   "execution_count": 356,
   "metadata": {},
   "outputs": [],
   "source": [
    "df4= pd.concat([df2,df3,], axis=0)"
   ]
  },
  {
   "cell_type": "code",
   "execution_count": 357,
   "metadata": {},
   "outputs": [],
   "source": [
    "df4['budg'] = df4['Rocket']"
   ]
  },
  {
   "cell_type": "code",
   "execution_count": 359,
   "metadata": {},
   "outputs": [
    {
     "data": {
      "text/html": [
       "<div>\n",
       "<style scoped>\n",
       "    .dataframe tbody tr th:only-of-type {\n",
       "        vertical-align: middle;\n",
       "    }\n",
       "\n",
       "    .dataframe tbody tr th {\n",
       "        vertical-align: top;\n",
       "    }\n",
       "\n",
       "    .dataframe thead th {\n",
       "        text-align: right;\n",
       "    }\n",
       "</style>\n",
       "<table border=\"1\" class=\"dataframe\">\n",
       "  <thead>\n",
       "    <tr style=\"text-align: right;\">\n",
       "      <th></th>\n",
       "      <th>Company Name</th>\n",
       "      <th>Location</th>\n",
       "      <th>Detail</th>\n",
       "      <th>Status Rocket</th>\n",
       "      <th>Rocket</th>\n",
       "      <th>Status Mission</th>\n",
       "      <th>Country of Launch</th>\n",
       "      <th>Companys Country of Origin</th>\n",
       "      <th>Private or State Run</th>\n",
       "      <th>DateTime</th>\n",
       "      <th>Year</th>\n",
       "      <th>Month</th>\n",
       "      <th>Day</th>\n",
       "      <th>Date</th>\n",
       "      <th>Time</th>\n",
       "      <th>Hour</th>\n",
       "      <th>vname</th>\n",
       "      <th>budg</th>\n",
       "    </tr>\n",
       "  </thead>\n",
       "  <tbody>\n",
       "    <tr>\n",
       "      <th>121</th>\n",
       "      <td>ISRO</td>\n",
       "      <td>Second Launch Pad, Satish Dhawan Space Centre,...</td>\n",
       "      <td>GSLV Mk III | Chandrayaan-2 lunar mission</td>\n",
       "      <td>StatusActive</td>\n",
       "      <td>62.0</td>\n",
       "      <td>Success</td>\n",
       "      <td>India</td>\n",
       "      <td>India</td>\n",
       "      <td>S</td>\n",
       "      <td>2019-07-22 09:13:00+00:00</td>\n",
       "      <td>2019</td>\n",
       "      <td>7</td>\n",
       "      <td>22</td>\n",
       "      <td>22/07/2019</td>\n",
       "      <td>09:13</td>\n",
       "      <td>09</td>\n",
       "      <td>GLSV</td>\n",
       "      <td>62.0</td>\n",
       "    </tr>\n",
       "    <tr>\n",
       "      <th>179</th>\n",
       "      <td>ISRO</td>\n",
       "      <td>Second Launch Pad, Satish Dhawan Space Centre,...</td>\n",
       "      <td>GSLV Mk II | GSAT-7A</td>\n",
       "      <td>StatusActive</td>\n",
       "      <td>47.0</td>\n",
       "      <td>Success</td>\n",
       "      <td>India</td>\n",
       "      <td>India</td>\n",
       "      <td>S</td>\n",
       "      <td>2018-12-19 10:40:00+00:00</td>\n",
       "      <td>2018</td>\n",
       "      <td>12</td>\n",
       "      <td>19</td>\n",
       "      <td>19/12/2018</td>\n",
       "      <td>10:40</td>\n",
       "      <td>10</td>\n",
       "      <td>GLSV</td>\n",
       "      <td>47.0</td>\n",
       "    </tr>\n",
       "    <tr>\n",
       "      <th>195</th>\n",
       "      <td>ISRO</td>\n",
       "      <td>Second Launch Pad, Satish Dhawan Space Centre,...</td>\n",
       "      <td>GSLV Mk III | GSAT 29</td>\n",
       "      <td>StatusActive</td>\n",
       "      <td>62.0</td>\n",
       "      <td>Success</td>\n",
       "      <td>India</td>\n",
       "      <td>India</td>\n",
       "      <td>S</td>\n",
       "      <td>2018-11-14 11:38:00+00:00</td>\n",
       "      <td>2018</td>\n",
       "      <td>11</td>\n",
       "      <td>14</td>\n",
       "      <td>14/11/2018</td>\n",
       "      <td>11:38</td>\n",
       "      <td>11</td>\n",
       "      <td>GLSV</td>\n",
       "      <td>62.0</td>\n",
       "    </tr>\n",
       "  </tbody>\n",
       "</table>\n",
       "</div>"
      ],
      "text/plain": [
       "    Company Name                                           Location  \\\n",
       "121         ISRO  Second Launch Pad, Satish Dhawan Space Centre,...   \n",
       "179         ISRO  Second Launch Pad, Satish Dhawan Space Centre,...   \n",
       "195         ISRO  Second Launch Pad, Satish Dhawan Space Centre,...   \n",
       "\n",
       "                                        Detail Status Rocket  Rocket  \\\n",
       "121  GSLV Mk III | Chandrayaan-2 lunar mission  StatusActive    62.0   \n",
       "179                       GSLV Mk II | GSAT-7A  StatusActive    47.0   \n",
       "195                      GSLV Mk III | GSAT 29  StatusActive    62.0   \n",
       "\n",
       "    Status Mission Country of Launch Companys Country of Origin  \\\n",
       "121        Success             India                      India   \n",
       "179        Success             India                      India   \n",
       "195        Success             India                      India   \n",
       "\n",
       "    Private or State Run                   DateTime  Year  Month  Day  \\\n",
       "121                    S  2019-07-22 09:13:00+00:00  2019      7   22   \n",
       "179                    S  2018-12-19 10:40:00+00:00  2018     12   19   \n",
       "195                    S  2018-11-14 11:38:00+00:00  2018     11   14   \n",
       "\n",
       "           Date   Time Hour vname  budg  \n",
       "121  22/07/2019  09:13   09  GLSV  62.0  \n",
       "179  19/12/2018  10:40   10  GLSV  47.0  \n",
       "195  14/11/2018  11:38   11  GLSV  62.0  "
      ]
     },
     "execution_count": 359,
     "metadata": {},
     "output_type": "execute_result"
    }
   ],
   "source": [
    "df4.head(3)"
   ]
  },
  {
   "cell_type": "code",
   "execution_count": 360,
   "metadata": {},
   "outputs": [
    {
     "data": {
      "text/html": [
       "<div>\n",
       "<style scoped>\n",
       "    .dataframe tbody tr th:only-of-type {\n",
       "        vertical-align: middle;\n",
       "    }\n",
       "\n",
       "    .dataframe tbody tr th {\n",
       "        vertical-align: top;\n",
       "    }\n",
       "\n",
       "    .dataframe thead th {\n",
       "        text-align: right;\n",
       "    }\n",
       "</style>\n",
       "<table border=\"1\" class=\"dataframe\">\n",
       "  <thead>\n",
       "    <tr style=\"text-align: right;\">\n",
       "      <th></th>\n",
       "      <th>Rocket</th>\n",
       "      <th>Year</th>\n",
       "      <th>Month</th>\n",
       "      <th>Day</th>\n",
       "      <th>budg</th>\n",
       "    </tr>\n",
       "    <tr>\n",
       "      <th>vname</th>\n",
       "      <th></th>\n",
       "      <th></th>\n",
       "      <th></th>\n",
       "      <th></th>\n",
       "      <th></th>\n",
       "    </tr>\n",
       "  </thead>\n",
       "  <tbody>\n",
       "    <tr>\n",
       "      <th>GLSV</th>\n",
       "      <td>859.0</td>\n",
       "      <td>34207</td>\n",
       "      <td>124</td>\n",
       "      <td>250</td>\n",
       "      <td>859.0</td>\n",
       "    </tr>\n",
       "    <tr>\n",
       "      <th>PSLV</th>\n",
       "      <td>1318.0</td>\n",
       "      <td>102580</td>\n",
       "      <td>328</td>\n",
       "      <td>935</td>\n",
       "      <td>1318.0</td>\n",
       "    </tr>\n",
       "  </tbody>\n",
       "</table>\n",
       "</div>"
      ],
      "text/plain": [
       "       Rocket    Year  Month  Day    budg\n",
       "vname                                    \n",
       "GLSV    859.0   34207    124  250   859.0\n",
       "PSLV   1318.0  102580    328  935  1318.0"
      ]
     },
     "execution_count": 360,
     "metadata": {},
     "output_type": "execute_result"
    }
   ],
   "source": [
    "df5= df4.groupby('vname').sum()\n",
    "df5"
   ]
  },
  {
   "cell_type": "code",
   "execution_count": 361,
   "metadata": {
    "scrolled": true
   },
   "outputs": [
    {
     "data": {
      "text/plain": [
       "<AxesSubplot:xlabel='vname', ylabel='budg'>"
      ]
     },
     "execution_count": 361,
     "metadata": {},
     "output_type": "execute_result"
    },
    {
     "data": {
      "image/png": "[encoded data removed]",
      "text/plain": [
       "<Figure size 432x288 with 1 Axes>"
      ]
     },
     "metadata": {
      "needs_background": "light"
     },
     "output_type": "display_data"
    }
   ],
   "source": [
    "sns.barplot(x= df5.index, y= df5.budg)"
   ]
  },
  {
   "cell_type": "markdown",
   "metadata": {},
   "source": [
    "- More budget is allocated to PSLV than GSLV by ISRO."
   ]
  },
  {
   "cell_type": "code",
   "execution_count": 362,
   "metadata": {},
   "outputs": [],
   "source": [
    "df6= df4[['vname','Year','Company Name','Status Rocket', 'Rocket','Status Mission']]"
   ]
  },
  {
   "cell_type": "code",
   "execution_count": 363,
   "metadata": {},
   "outputs": [
    {
     "data": {
      "text/html": [
       "<div>\n",
       "<style scoped>\n",
       "    .dataframe tbody tr th:only-of-type {\n",
       "        vertical-align: middle;\n",
       "    }\n",
       "\n",
       "    .dataframe tbody tr th {\n",
       "        vertical-align: top;\n",
       "    }\n",
       "\n",
       "    .dataframe thead th {\n",
       "        text-align: right;\n",
       "    }\n",
       "</style>\n",
       "<table border=\"1\" class=\"dataframe\">\n",
       "  <thead>\n",
       "    <tr style=\"text-align: right;\">\n",
       "      <th></th>\n",
       "      <th>vname</th>\n",
       "      <th>Year</th>\n",
       "      <th>Company Name</th>\n",
       "      <th>Status Rocket</th>\n",
       "      <th>Rocket</th>\n",
       "      <th>Status Mission</th>\n",
       "    </tr>\n",
       "  </thead>\n",
       "  <tbody>\n",
       "    <tr>\n",
       "      <th>121</th>\n",
       "      <td>GLSV</td>\n",
       "      <td>2019</td>\n",
       "      <td>ISRO</td>\n",
       "      <td>StatusActive</td>\n",
       "      <td>62.0</td>\n",
       "      <td>Success</td>\n",
       "    </tr>\n",
       "    <tr>\n",
       "      <th>179</th>\n",
       "      <td>GLSV</td>\n",
       "      <td>2018</td>\n",
       "      <td>ISRO</td>\n",
       "      <td>StatusActive</td>\n",
       "      <td>47.0</td>\n",
       "      <td>Success</td>\n",
       "    </tr>\n",
       "  </tbody>\n",
       "</table>\n",
       "</div>"
      ],
      "text/plain": [
       "    vname  Year Company Name Status Rocket  Rocket Status Mission\n",
       "121  GLSV  2019         ISRO  StatusActive    62.0        Success\n",
       "179  GLSV  2018         ISRO  StatusActive    47.0        Success"
      ]
     },
     "execution_count": 363,
     "metadata": {},
     "output_type": "execute_result"
    }
   ],
   "source": [
    "df6.head(2)"
   ]
  },
  {
   "cell_type": "code",
   "execution_count": 364,
   "metadata": {},
   "outputs": [],
   "source": [
    "df7= pd.DataFrame(df4.groupby(['vname','Year','Status Mission'])['vname'].count())"
   ]
  },
  {
   "cell_type": "code",
   "execution_count": 365,
   "metadata": {
    "scrolled": false
   },
   "outputs": [
    {
     "data": {
      "text/html": [
       "<div>\n",
       "<style scoped>\n",
       "    .dataframe tbody tr th:only-of-type {\n",
       "        vertical-align: middle;\n",
       "    }\n",
       "\n",
       "    .dataframe tbody tr th {\n",
       "        vertical-align: top;\n",
       "    }\n",
       "\n",
       "    .dataframe thead th {\n",
       "        text-align: right;\n",
       "    }\n",
       "</style>\n",
       "<table border=\"1\" class=\"dataframe\">\n",
       "  <thead>\n",
       "    <tr style=\"text-align: right;\">\n",
       "      <th></th>\n",
       "      <th></th>\n",
       "      <th></th>\n",
       "      <th>vname</th>\n",
       "    </tr>\n",
       "    <tr>\n",
       "      <th>vname</th>\n",
       "      <th>Year</th>\n",
       "      <th>Status Mission</th>\n",
       "      <th></th>\n",
       "    </tr>\n",
       "  </thead>\n",
       "  <tbody>\n",
       "    <tr>\n",
       "      <th rowspan=\"5\" valign=\"top\">GLSV</th>\n",
       "      <th>2001</th>\n",
       "      <th>Partial Failure</th>\n",
       "      <td>1</td>\n",
       "    </tr>\n",
       "    <tr>\n",
       "      <th>2003</th>\n",
       "      <th>Success</th>\n",
       "      <td>1</td>\n",
       "    </tr>\n",
       "    <tr>\n",
       "      <th>2004</th>\n",
       "      <th>Success</th>\n",
       "      <td>1</td>\n",
       "    </tr>\n",
       "    <tr>\n",
       "      <th>2006</th>\n",
       "      <th>Failure</th>\n",
       "      <td>1</td>\n",
       "    </tr>\n",
       "    <tr>\n",
       "      <th>2007</th>\n",
       "      <th>Partial Failure</th>\n",
       "      <td>1</td>\n",
       "    </tr>\n",
       "  </tbody>\n",
       "</table>\n",
       "</div>"
      ],
      "text/plain": [
       "                            vname\n",
       "vname Year Status Mission        \n",
       "GLSV  2001 Partial Failure      1\n",
       "      2003 Success              1\n",
       "      2004 Success              1\n",
       "      2006 Failure              1\n",
       "      2007 Partial Failure      1"
      ]
     },
     "execution_count": 365,
     "metadata": {},
     "output_type": "execute_result"
    }
   ],
   "source": [
    "df7.head()"
   ]
  },
  {
   "cell_type": "code",
   "execution_count": 366,
   "metadata": {},
   "outputs": [
    {
     "data": {
      "text/html": [
       "<div>\n",
       "<style scoped>\n",
       "    .dataframe tbody tr th:only-of-type {\n",
       "        vertical-align: middle;\n",
       "    }\n",
       "\n",
       "    .dataframe tbody tr th {\n",
       "        vertical-align: top;\n",
       "    }\n",
       "\n",
       "    .dataframe thead th {\n",
       "        text-align: right;\n",
       "    }\n",
       "</style>\n",
       "<table border=\"1\" class=\"dataframe\">\n",
       "  <thead>\n",
       "    <tr style=\"text-align: right;\">\n",
       "      <th></th>\n",
       "      <th>vname</th>\n",
       "      <th>Year</th>\n",
       "      <th>Status Mission</th>\n",
       "      <th>count</th>\n",
       "    </tr>\n",
       "  </thead>\n",
       "  <tbody>\n",
       "    <tr>\n",
       "      <th>0</th>\n",
       "      <td>GLSV</td>\n",
       "      <td>2001</td>\n",
       "      <td>Partial Failure</td>\n",
       "      <td>1</td>\n",
       "    </tr>\n",
       "    <tr>\n",
       "      <th>1</th>\n",
       "      <td>GLSV</td>\n",
       "      <td>2003</td>\n",
       "      <td>Success</td>\n",
       "      <td>1</td>\n",
       "    </tr>\n",
       "    <tr>\n",
       "      <th>2</th>\n",
       "      <td>GLSV</td>\n",
       "      <td>2004</td>\n",
       "      <td>Success</td>\n",
       "      <td>1</td>\n",
       "    </tr>\n",
       "    <tr>\n",
       "      <th>3</th>\n",
       "      <td>GLSV</td>\n",
       "      <td>2006</td>\n",
       "      <td>Failure</td>\n",
       "      <td>1</td>\n",
       "    </tr>\n",
       "    <tr>\n",
       "      <th>4</th>\n",
       "      <td>GLSV</td>\n",
       "      <td>2007</td>\n",
       "      <td>Partial Failure</td>\n",
       "      <td>1</td>\n",
       "    </tr>\n",
       "  </tbody>\n",
       "</table>\n",
       "</div>"
      ],
      "text/plain": [
       "  vname  Year   Status Mission  count\n",
       "0  GLSV  2001  Partial Failure      1\n",
       "1  GLSV  2003          Success      1\n",
       "2  GLSV  2004          Success      1\n",
       "3  GLSV  2006          Failure      1\n",
       "4  GLSV  2007  Partial Failure      1"
      ]
     },
     "execution_count": 366,
     "metadata": {},
     "output_type": "execute_result"
    }
   ],
   "source": [
    "df7.rename(columns = {'vname':'count'}, inplace = True)\n",
    "df7.reset_index(level=2, drop=False,inplace=True)\n",
    "df7.reset_index(level=1, drop=False,inplace=True)\n",
    "df7.reset_index(level=0, drop=False,inplace=True)\n",
    "df7.head()"
   ]
  },
  {
   "cell_type": "code",
   "execution_count": 367,
   "metadata": {},
   "outputs": [],
   "source": [
    "succ=df7[df7['Status Mission']=='Success'].groupby('Year')['count'].sum()\n",
    "fail=df7[df7['Status Mission']!='Success'].groupby('Year')['count'].sum()"
   ]
  },
  {
   "cell_type": "code",
   "execution_count": 368,
   "metadata": {},
   "outputs": [],
   "source": [
    "df_succ=pd.DataFrame(succ)\n",
    "df_fail=pd.DataFrame(fail)\n",
    "df_succ.rename(columns={\"count\": \"succ\", },inplace=True)\n",
    "df_fail.rename(columns={\"count\": \"fail\", },inplace=True)\n",
    "df_succ=df_succ.sort_values('Year',ascending=True)\n",
    "df_fail=df_fail.sort_values('Year',ascending=True)"
   ]
  },
  {
   "cell_type": "code",
   "execution_count": 369,
   "metadata": {},
   "outputs": [
    {
     "data": {
      "text/html": [
       "<div>\n",
       "<style scoped>\n",
       "    .dataframe tbody tr th:only-of-type {\n",
       "        vertical-align: middle;\n",
       "    }\n",
       "\n",
       "    .dataframe tbody tr th {\n",
       "        vertical-align: top;\n",
       "    }\n",
       "\n",
       "    .dataframe thead th {\n",
       "        text-align: right;\n",
       "    }\n",
       "</style>\n",
       "<table border=\"1\" class=\"dataframe\">\n",
       "  <thead>\n",
       "    <tr style=\"text-align: right;\">\n",
       "      <th></th>\n",
       "      <th>fail</th>\n",
       "    </tr>\n",
       "    <tr>\n",
       "      <th>Year</th>\n",
       "      <th></th>\n",
       "    </tr>\n",
       "  </thead>\n",
       "  <tbody>\n",
       "    <tr>\n",
       "      <th>1993</th>\n",
       "      <td>1</td>\n",
       "    </tr>\n",
       "    <tr>\n",
       "      <th>1997</th>\n",
       "      <td>1</td>\n",
       "    </tr>\n",
       "    <tr>\n",
       "      <th>2001</th>\n",
       "      <td>1</td>\n",
       "    </tr>\n",
       "    <tr>\n",
       "      <th>2006</th>\n",
       "      <td>1</td>\n",
       "    </tr>\n",
       "    <tr>\n",
       "      <th>2007</th>\n",
       "      <td>1</td>\n",
       "    </tr>\n",
       "    <tr>\n",
       "      <th>2010</th>\n",
       "      <td>2</td>\n",
       "    </tr>\n",
       "    <tr>\n",
       "      <th>2017</th>\n",
       "      <td>1</td>\n",
       "    </tr>\n",
       "  </tbody>\n",
       "</table>\n",
       "</div>"
      ],
      "text/plain": [
       "      fail\n",
       "Year      \n",
       "1993     1\n",
       "1997     1\n",
       "2001     1\n",
       "2006     1\n",
       "2007     1\n",
       "2010     2\n",
       "2017     1"
      ]
     },
     "execution_count": 369,
     "metadata": {},
     "output_type": "execute_result"
    }
   ],
   "source": [
    "df_fail"
   ]
  },
  {
   "cell_type": "code",
   "execution_count": 370,
   "metadata": {},
   "outputs": [
    {
     "data": {
      "text/plain": [
       "<AxesSubplot:title={'center':'Success and Failiture of PSLV and GSLV over Years'}, xlabel='Year'>"
      ]
     },
     "execution_count": 370,
     "metadata": {},
     "output_type": "execute_result"
    },
    {
     "data": {
      "image/png": "[encoded data removed]",
      "text/plain": [
       "<Figure size 432x288 with 1 Axes>"
      ]
     },
     "metadata": {
      "needs_background": "light"
     },
     "output_type": "display_data"
    }
   ],
   "source": [
    "df_com=pd.concat([df_succ,df_fail], axis=1, sort=True)\n",
    "df_com.fillna(0,inplace=True)\n",
    "df_com.plot(kind='bar',title=\"Success and Failiture of PSLV and GSLV over Years\")"
   ]
  },
  {
   "cell_type": "markdown",
   "metadata": {},
   "source": [
    " - success rate of launches conducted by ISRO for GSLV and PSLV spaceships are more 2011 to 2019."
   ]
  }
 ],
 "metadata": {
  "kernelspec": {
   "display_name": "Python 3",
   "language": "python",
   "name": "python3"
  },
  "language_info": {
   "codemirror_mode": {
    "name": "ipython",
    "version": 3
   },
   "file_extension": ".py",
   "mimetype": "text/x-python",
   "name": "python",
   "nbconvert_exporter": "python",
   "pygments_lexer": "ipython3",
   "version": "3.7.3"
  }
 },
 "nbformat": 4,
 "nbformat_minor": 4
}
